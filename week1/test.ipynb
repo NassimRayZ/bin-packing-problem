{
 "cells": [
  {
   "cell_type": "code",
   "execution_count": 6,
   "metadata": {},
   "outputs": [
    {
     "name": "stdout",
     "output_type": "stream",
     "text": [
      "Number of bins required in First Fit :  2\n"
     ]
    }
   ],
   "source": [
    "# Python3 program to find number\n",
    "# of bins required using\n",
    "# First Fit algorithm.\n",
    " \n",
    "# Returns number of bins required\n",
    "# using first fit\n",
    "# online algorithm\n",
    "def first(weight, n, c):\n",
    "    res = 0;\n",
    "    bin_rem = [0]*n;\n",
    "    for i in range(n):\n",
    "        j = 0;\n",
    "        min = c + 1;\n",
    "        bi = 0;\n",
    "        for j in range(res):\n",
    "            if (bin_rem[j] >= weight[i] and bin_rem[j] -\n",
    "                                       weight[i] < min):\n",
    "                bi = j;\n",
    "                min = bin_rem[j] - weight[i];\n",
    "        if (min == c + 1):\n",
    "            bin_rem[res] = c - weight[i];\n",
    "            res += 1;\n",
    "        else:\n",
    "            bin_rem[bi] -= weight[i];\n",
    "    return res;\n",
    " \n",
    "if __name__ == '__main__':\n",
    "    weight = [7,6,4,3];\n",
    "    c = 10;\n",
    "    n = len(weight);\n",
    "    print(\"Number of bins required in First Fit : \",\n",
    "                             firstFit(weight, n, c));"
   ]
  },
  {
   "cell_type": "code",
   "execution_count": null,
   "metadata": {},
   "outputs": [],
   "source": []
  }
 ],
 "metadata": {
  "kernelspec": {
   "display_name": "Python 3",
   "language": "python",
   "name": "python3"
  },
  "language_info": {
   "codemirror_mode": {
    "name": "ipython",
    "version": 3
   },
   "file_extension": ".py",
   "mimetype": "text/x-python",
   "name": "python",
   "nbconvert_exporter": "python",
   "pygments_lexer": "ipython3",
   "version": "3.10.9"
  },
  "orig_nbformat": 4
 },
 "nbformat": 4,
 "nbformat_minor": 2
}
